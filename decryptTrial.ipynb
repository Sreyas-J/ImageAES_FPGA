{
 "cells": [
  {
   "cell_type": "code",
   "execution_count": 1,
   "metadata": {},
   "outputs": [],
   "source": [
    "from Crypto.Cipher import AES"
   ]
  },
  {
   "cell_type": "code",
   "execution_count": 2,
   "metadata": {},
   "outputs": [],
   "source": [
    "def decrypt_data(encrypted_hex, key):\n",
    "    try:\n",
    "        # Convert the encrypted text from hex to bytes\n",
    "        encrypted_data = bytes.fromhex(encrypted_hex)\n",
    "        \n",
    "        if len(encrypted_data) != 16:\n",
    "            raise ValueError(\"Encrypted data must be 128 bits (16 bytes)\")\n",
    "\n",
    "        # Create a new AES cipher in ECB mode\n",
    "        cipher = AES.new(key, AES.MODE_ECB)\n",
    "        \n",
    "        # Decrypt the data\n",
    "        decrypted_data = cipher.decrypt(encrypted_data)        \n",
    "        # Return decrypted data in hexadecimal format\n",
    "        return decrypted_data.hex()\n",
    "    except ValueError as e:\n",
    "        return f\"Error: {e}\""
   ]
  },
  {
   "cell_type": "code",
   "execution_count": 3,
   "metadata": {},
   "outputs": [
    {
     "name": "stdout",
     "output_type": "stream",
     "text": [
      "1d007fffd90000000000000000000000\n"
     ]
    }
   ],
   "source": [
    "key = bytes.fromhex('000102030405060708090a0b0c0d0e0f')\n",
    "print(decrypt_data('3003753c22c093452e4d34a6661c72cd',key))"
   ]
  },
  {
   "cell_type": "code",
   "execution_count": null,
   "metadata": {},
   "outputs": [],
   "source": []
  }
 ],
 "metadata": {
  "kernelspec": {
   "display_name": "Python 3",
   "language": "python",
   "name": "python3"
  },
  "language_info": {
   "codemirror_mode": {
    "name": "ipython",
    "version": 3
   },
   "file_extension": ".py",
   "mimetype": "text/x-python",
   "name": "python",
   "nbconvert_exporter": "python",
   "pygments_lexer": "ipython3",
   "version": "3.13.1"
  }
 },
 "nbformat": 4,
 "nbformat_minor": 2
}
