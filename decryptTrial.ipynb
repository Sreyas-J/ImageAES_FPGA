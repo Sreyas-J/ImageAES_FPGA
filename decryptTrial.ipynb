{
 "cells": [
  {
   "cell_type": "code",
   "execution_count": 4,
   "metadata": {},
   "outputs": [],
   "source": [
    "from Crypto.Cipher import AES"
   ]
  },
  {
   "cell_type": "code",
   "execution_count": 5,
   "metadata": {},
   "outputs": [],
   "source": [
    "def decrypt_data(encrypted_hex, key):\n",
    "    try:\n",
    "        # Convert the encrypted text from hex to bytes\n",
    "        encrypted_data = bytes.fromhex(encrypted_hex)\n",
    "        \n",
    "        if len(encrypted_data) != 16:\n",
    "            raise ValueError(\"Encrypted data must be 128 bits (16 bytes)\")\n",
    "\n",
    "        # Create a new AES cipher in ECB mode\n",
    "        cipher = AES.new(key, AES.MODE_ECB)\n",
    "        \n",
    "        # Decrypt the data\n",
    "        decrypted_data = cipher.decrypt(encrypted_data)        \n",
    "        # Return decrypted data in hexadecimal format\n",
    "        return decrypted_data.hex()\n",
    "    except ValueError as e:\n",
    "        return f\"Error: {e}\""
   ]
  },
  {
   "cell_type": "code",
   "execution_count": 6,
   "metadata": {},
   "outputs": [
    {
     "name": "stdout",
     "output_type": "stream",
     "text": [
      "0707070909080a0c140d0c0b0b0c1912\n"
     ]
    }
   ],
   "source": [
    "key = bytes.fromhex('000102030405060708090a0b0c0d0e0f')\n",
    "print(decrypt_data('e109ac33e298773a8a915b24c78e054f',key))"
   ]
  },
  {
   "cell_type": "code",
   "execution_count": null,
   "metadata": {},
   "outputs": [],
   "source": []
  }
 ],
 "metadata": {
  "kernelspec": {
   "display_name": "Python 3",
   "language": "python",
   "name": "python3"
  },
  "language_info": {
   "codemirror_mode": {
    "name": "ipython",
    "version": 3
   },
   "file_extension": ".py",
   "mimetype": "text/x-python",
   "name": "python",
   "nbconvert_exporter": "python",
   "pygments_lexer": "ipython3",
   "version": "3.13.1"
  }
 },
 "nbformat": 4,
 "nbformat_minor": 2
}
