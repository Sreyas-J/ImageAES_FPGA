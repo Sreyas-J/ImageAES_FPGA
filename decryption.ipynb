{
 "cells": [
  {
   "cell_type": "code",
   "execution_count": 4,
   "metadata": {},
   "outputs": [],
   "source": [
    "import pandas as pd\n",
    "from Crypto.Cipher import AES\n",
    "from PIL import Image\n",
    "import io\n",
    "\n",
    "input_csv = \"iladata.csv\"\n",
    "# output_csv = \"recombined_output.csv\"\n",
    "key = bytes.fromhex('000102030405060708090a0b0c0d0e0f')\n",
    "delay_cycles=12"
   ]
  },
  {
   "cell_type": "code",
   "execution_count": 5,
   "metadata": {},
   "outputs": [],
   "source": [
    "data_columns=pd.read_csv(input_csv)\n",
    "data_columns=data_columns[[\"addra[1][6:0]\",\"TRIGGER\",\"done\",\"encrypted128[0][127:0]\",\"encrypted128[1][127:0]\",\"encrypted128[2][127:0]\",\"encrypted128[3][127:0]\",\"encrypted128[4][127:0]\",\"encrypted128[5][127:0]\"]]\n",
    "data_columns = data_columns.drop(index=0).reset_index(drop=True)\n",
    "\n",
    "columns_to_convert = [\"addra[1][6:0]\", \"TRIGGER\", \"done\"]\n",
    "\n",
    "for col in columns_to_convert:\n",
    "    data_columns[col] = data_columns[col].astype(int)\n",
    "\n",
    "trigger_index = data_columns[data_columns[\"TRIGGER\"] == 1].index[0]\n",
    "data_columns = data_columns.iloc[trigger_index+delay_cycles:].reset_index(drop=True)\n",
    "\n",
    "done_index=data_columns[data_columns[\"done\"] == 1].index[0]\n",
    "data_columns = data_columns.iloc[:done_index+delay_cycles].reset_index(drop=True)"
   ]
  },
  {
   "cell_type": "code",
   "execution_count": 6,
   "metadata": {},
   "outputs": [
    {
     "name": "stdout",
     "output_type": "stream",
     "text": [
      "Binary file written successfully.\n"
     ]
    }
   ],
   "source": [
    "# Step 1: Reverse the second round-robin split\n",
    "iterate_col=[\"encrypted128[0][127:0]\",\"encrypted128[1][127:0]\",\"encrypted128[2][127:0]\",\"encrypted128[3][127:0]\",\"encrypted128[4][127:0]\",\"encrypted128[5][127:0]\"]\n",
    "recombined_data_stage1 = [[] for _ in range(3)]  # Specify the column names here\n",
    "for j in range(3):\n",
    "    for i in range(len(data_columns[\"encrypted128[0][127:0]\"])):\n",
    "        recombined_data_stage1[j].append(data_columns[iterate_col[j*2]][i])\n",
    "        recombined_data_stage1[j].append(data_columns[iterate_col[j*2+1]][i])\n",
    "\n",
    "final_data = []\n",
    "\n",
    "for i in range(len(recombined_data_stage1[0])):\n",
    "    final_data.append(recombined_data_stage1[0][i])\n",
    "    final_data.append(recombined_data_stage1[2][i])\n",
    "    final_data.append(recombined_data_stage1[1][i])\n",
    "\n",
    "df = pd.DataFrame(final_data)\n",
    "df.columns = [\"Encrypted_image\"]"
   ]
  },
  {
   "cell_type": "code",
   "execution_count": 7,
   "metadata": {},
   "outputs": [],
   "source": [
    "def decrypt_data(encrypted_hex, key):\n",
    "    try:\n",
    "        # Convert the encrypted text from hex to bytes\n",
    "        encrypted_data = bytes.fromhex(encrypted_hex)\n",
    "        \n",
    "        if len(encrypted_data) != 16:\n",
    "            raise ValueError(\"Encrypted data must be 128 bits (16 bytes)\")\n",
    "\n",
    "        # Create a new AES cipher in ECB mode\n",
    "        cipher = AES.new(key, AES.MODE_ECB)\n",
    "        \n",
    "        # Decrypt the data\n",
    "        decrypted_data = cipher.decrypt(encrypted_data)        \n",
    "        # Return decrypted data in hexadecimal format\n",
    "        return decrypted_data.hex()\n",
    "    except ValueError as e:\n",
    "        return f\"Error: {e}\""
   ]
  },
  {
   "cell_type": "code",
   "execution_count": 8,
   "metadata": {},
   "outputs": [
    {
     "data": {
      "text/html": [
       "<div>\n",
       "<style scoped>\n",
       "    .dataframe tbody tr th:only-of-type {\n",
       "        vertical-align: middle;\n",
       "    }\n",
       "\n",
       "    .dataframe tbody tr th {\n",
       "        vertical-align: top;\n",
       "    }\n",
       "\n",
       "    .dataframe thead th {\n",
       "        text-align: right;\n",
       "    }\n",
       "</style>\n",
       "<table border=\"1\" class=\"dataframe\">\n",
       "  <thead>\n",
       "    <tr style=\"text-align: right;\">\n",
       "      <th></th>\n",
       "      <th>decrypted_col</th>\n",
       "    </tr>\n",
       "  </thead>\n",
       "  <tbody>\n",
       "    <tr>\n",
       "      <th>0</th>\n",
       "      <td>ffd8ffe000104a464946000101000001</td>\n",
       "    </tr>\n",
       "    <tr>\n",
       "      <th>1</th>\n",
       "      <td>00010000ffdb00430008060607060508</td>\n",
       "    </tr>\n",
       "    <tr>\n",
       "      <th>2</th>\n",
       "      <td>0707070909080a0c140d0c0b0b0c1912</td>\n",
       "    </tr>\n",
       "    <tr>\n",
       "      <th>3</th>\n",
       "      <td>130f141d1a1f1e1d1a1c1c20242e2720</td>\n",
       "    </tr>\n",
       "    <tr>\n",
       "      <th>4</th>\n",
       "      <td>222c231c1c2837292c30313434341f27</td>\n",
       "    </tr>\n",
       "    <tr>\n",
       "      <th>...</th>\n",
       "      <td>...</td>\n",
       "    </tr>\n",
       "    <tr>\n",
       "      <th>271</th>\n",
       "      <td>00000000000000000000000000000000</td>\n",
       "    </tr>\n",
       "    <tr>\n",
       "      <th>272</th>\n",
       "      <td>00000000000000000000000000000000</td>\n",
       "    </tr>\n",
       "    <tr>\n",
       "      <th>273</th>\n",
       "      <td>00000000000000000000000000000000</td>\n",
       "    </tr>\n",
       "    <tr>\n",
       "      <th>274</th>\n",
       "      <td>00000000000000000000000000000000</td>\n",
       "    </tr>\n",
       "    <tr>\n",
       "      <th>275</th>\n",
       "      <td>00000000000000000000000000000000</td>\n",
       "    </tr>\n",
       "  </tbody>\n",
       "</table>\n",
       "<p>276 rows × 1 columns</p>\n",
       "</div>"
      ],
      "text/plain": [
       "                        decrypted_col\n",
       "0    ffd8ffe000104a464946000101000001\n",
       "1    00010000ffdb00430008060607060508\n",
       "2    0707070909080a0c140d0c0b0b0c1912\n",
       "3    130f141d1a1f1e1d1a1c1c20242e2720\n",
       "4    222c231c1c2837292c30313434341f27\n",
       "..                                ...\n",
       "271  00000000000000000000000000000000\n",
       "272  00000000000000000000000000000000\n",
       "273  00000000000000000000000000000000\n",
       "274  00000000000000000000000000000000\n",
       "275  00000000000000000000000000000000\n",
       "\n",
       "[276 rows x 1 columns]"
      ]
     },
     "execution_count": 8,
     "metadata": {},
     "output_type": "execute_result"
    }
   ],
   "source": [
    "dec_df=pd.DataFrame()\n",
    "dec_df['decrypted_col'] = df['Encrypted_image'].apply(lambda x: decrypt_data(x, key))\n",
    "dec_df"
   ]
  },
  {
   "cell_type": "code",
   "execution_count": 9,
   "metadata": {},
   "outputs": [],
   "source": [
    "# Convert the hexadecimal decrypted data to binary and write it to a .bin file\n",
    "with open(\"decrypted_image.bin\", \"wb\") as bin_file:\n",
    "    for hex_string in dec_df['decrypted_col']:\n",
    "        # Only process valid hex strings\n",
    "        if hex_string and \"Error\" not in hex_string:\n",
    "            binary_data = bytes.fromhex(hex_string)\n",
    "            # Write binary data to file\n",
    "            bin_file.write(binary_data)\n",
    "\n",
    "with open(\"encrypted_image.bin\", \"wb\") as bin_file:\n",
    "    for hex_string in df['Encrypted_image']:\n",
    "        # Only process valid hex strings\n",
    "        if hex_string and \"Error\" not in hex_string:\n",
    "            # Strip any padding spaces or newlines from hex strings\n",
    "            binary_data = bytes.fromhex(hex_string)\n",
    "            # Write binary data to file\n",
    "            bin_file.write(binary_data)\n"
   ]
  },
  {
   "cell_type": "code",
   "execution_count": 10,
   "metadata": {},
   "outputs": [
    {
     "name": "stdout",
     "output_type": "stream",
     "text": [
      "Error displaying image: cannot identify image file <_io.BytesIO object at 0x771640bdf330>\n"
     ]
    }
   ],
   "source": [
    "def display_image_from_binary(binary_file_path,image_path):\n",
    "    try:\n",
    "        # Read the binary data from the file\n",
    "        with open(binary_file_path, 'rb') as binary_file:\n",
    "            img_binary_data = binary_file.read()\n",
    "        img = Image.open(io.BytesIO(img_binary_data))\n",
    "        \n",
    "        img.show()\n",
    "        img.save(image_path)\n",
    "\n",
    "    except Exception as e:\n",
    "        print(f\"Error displaying image: {e}\")\n",
    "\n",
    "display_image_from_binary(\"decrypted_image.bin\",\"decrypted_image.jpeg\")\n",
    "display_image_from_binary(\"encrypted_image.bin\",\"encrypted_image.jpeg\")"
   ]
  }
 ],
 "metadata": {
  "kernelspec": {
   "display_name": "default",
   "language": "python",
   "name": "python3"
  },
  "language_info": {
   "codemirror_mode": {
    "name": "ipython",
    "version": 3
   },
   "file_extension": ".py",
   "mimetype": "text/x-python",
   "name": "python",
   "nbconvert_exporter": "python",
   "pygments_lexer": "ipython3",
   "version": "3.12.4"
  }
 },
 "nbformat": 4,
 "nbformat_minor": 2
}
