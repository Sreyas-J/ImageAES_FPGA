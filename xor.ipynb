{
 "cells": [
  {
   "cell_type": "code",
   "execution_count": 1,
   "metadata": {},
   "outputs": [],
   "source": [
    "def xor_hex(hex1: str, hex2: str) -> str:\n",
    "    \"\"\"\n",
    "    XORs two hexadecimal strings and returns the result as a hex string.\n",
    "    \"\"\"\n",
    "    # Ensure both hex strings are of equal length\n",
    "    if len(hex1) != len(hex2):\n",
    "        raise ValueError(\"Hex strings must be of equal length\")\n",
    "    \n",
    "    # Convert hex strings to bytes\n",
    "    bytes1 = bytes.fromhex(hex1)\n",
    "    bytes2 = bytes.fromhex(hex2)\n",
    "    \n",
    "    # Perform XOR operation\n",
    "    xored_bytes = bytes(a ^ b for a, b in zip(bytes1, bytes2))\n",
    "    \n",
    "    # Convert result to hex string\n",
    "    return xored_bytes.hex()"
   ]
  },
  {
   "cell_type": "code",
   "execution_count": 2,
   "metadata": {},
   "outputs": [
    {
     "name": "stdout",
     "output_type": "stream",
     "text": [
      "XOR result: 2c72fb8eb59aa1346fcd950e2819dc23\n"
     ]
    }
   ],
   "source": [
    "hex1 = \"98ce05c82d391d4423a8ff00811f947b\"\n",
    "hex2 = \"75600d589e01c76d4e58d62d2ef3d159\"\n",
    "result = xor_hex(hex1, hex2)\n",
    "print(\"XOR result:\", result)"
   ]
  }
 ],
 "metadata": {
  "kernelspec": {
   "display_name": "AES",
   "language": "python",
   "name": "python3"
  },
  "language_info": {
   "codemirror_mode": {
    "name": "ipython",
    "version": 3
   },
   "file_extension": ".py",
   "mimetype": "text/x-python",
   "name": "python",
   "nbconvert_exporter": "python",
   "pygments_lexer": "ipython3",
   "version": "3.13.1"
  }
 },
 "nbformat": 4,
 "nbformat_minor": 2
}
