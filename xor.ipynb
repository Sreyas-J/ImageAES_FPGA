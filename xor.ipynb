{
 "cells": [
  {
   "cell_type": "code",
   "execution_count": 13,
   "metadata": {},
   "outputs": [],
   "source": [
    "def xor_hex(hex1: str, hex2: str) -> str:\n",
    "    \"\"\"\n",
    "    XORs two hexadecimal strings and returns the result as a hex string.\n",
    "    \"\"\"\n",
    "    # Ensure both hex strings are of equal length\n",
    "    if len(hex1) != len(hex2):\n",
    "        raise ValueError(\"Hex strings must be of equal length\")\n",
    "    \n",
    "    # Convert hex strings to bytes\n",
    "    bytes1 = bytes.fromhex(hex1)\n",
    "    bytes2 = bytes.fromhex(hex2)\n",
    "    \n",
    "    # Perform XOR operation\n",
    "    xored_bytes = bytes(a ^ b for a, b in zip(bytes1, bytes2))\n",
    "    \n",
    "    # Convert result to hex string\n",
    "    return xored_bytes.hex()"
   ]
  },
  {
   "cell_type": "code",
   "execution_count": 14,
   "metadata": {},
   "outputs": [
    {
     "name": "stdout",
     "output_type": "stream",
     "text": [
      "XOR result: f9821385043c7634a4fee4ebfa77c4d8\n"
     ]
    }
   ],
   "source": [
    "hex1 = \"ffb38ee04d1967488cc4faf80fee98ea\"\n",
    "hex2 = \"06319d654925117c283a1e13f5995c32\"\n",
    "result = xor_hex(hex1, hex2)\n",
    "print(\"XOR result:\", result)"
   ]
  }
 ],
 "metadata": {
  "kernelspec": {
   "display_name": "AES",
   "language": "python",
   "name": "python3"
  },
  "language_info": {
   "codemirror_mode": {
    "name": "ipython",
    "version": 3
   },
   "file_extension": ".py",
   "mimetype": "text/x-python",
   "name": "python",
   "nbconvert_exporter": "python",
   "pygments_lexer": "ipython3",
   "version": "3.13.1"
  }
 },
 "nbformat": 4,
 "nbformat_minor": 2
}
