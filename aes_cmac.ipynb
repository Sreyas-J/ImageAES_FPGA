{
 "cells": [
  {
   "cell_type": "code",
   "execution_count": 1,
   "metadata": {},
   "outputs": [],
   "source": [
    "from Crypto.Hash import CMAC\n",
    "from Crypto.Cipher import AES"
   ]
  },
  {
   "cell_type": "code",
   "execution_count": 2,
   "metadata": {},
   "outputs": [],
   "source": [
    "def compute_cmac(file_path, key_hex):\n",
    "    key = bytes.fromhex(key_hex)\n",
    "    cobj = CMAC.new(key, ciphermod=AES)\n",
    "    \n",
    "    # Read file and process each line\n",
    "    with open(file_path, 'r') as f:\n",
    "        for line in f:\n",
    "            plaintext = bytes.fromhex(line.strip())  # Convert hex string to bytes\n",
    "            cobj.update(plaintext)\n",
    "    \n",
    "    # Print final CMAC\n",
    "    print(\"CMAC:\", cobj.hexdigest())"
   ]
  },
  {
   "cell_type": "code",
   "execution_count": 3,
   "metadata": {},
   "outputs": [
    {
     "name": "stdout",
     "output_type": "stream",
     "text": [
      "CMAC: 7ce783094b8a7710957814628a2c6bdf\n"
     ]
    }
   ],
   "source": [
    "compute_cmac('image128.txt', '000102030405060708090a0b0c0d0e0f')"
   ]
  }
 ],
 "metadata": {
  "kernelspec": {
   "display_name": "AES",
   "language": "python",
   "name": "python3"
  },
  "language_info": {
   "codemirror_mode": {
    "name": "ipython",
    "version": 3
   },
   "file_extension": ".py",
   "mimetype": "text/x-python",
   "name": "python",
   "nbconvert_exporter": "python",
   "pygments_lexer": "ipython3",
   "version": "3.13.1"
  }
 },
 "nbformat": 4,
 "nbformat_minor": 2
}
